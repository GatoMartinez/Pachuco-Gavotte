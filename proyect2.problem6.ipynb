{
 "cells": [
  {
   "cell_type": "code",
   "execution_count": null,
   "id": "b327fbbf",
   "metadata": {},
   "outputs": [],
   "source": [
    "import numpy as np                                                                                                                                                     \n",
    "import matplotlib.pyplot as plt                                                                                                                                         \n",
    "n1=10                                                                                                                                                                    \n",
    "h1=1/n1                                                                                                                                                                   \n",
    "x1=[]                                                                                                                                                                   \n",
    "for i in range(0,n1+1):                                                                                                                                                  \n",
    "    x1.append(h1*i)                                                                                                                                                                                                                                                                                                                              \n",
    "v1=np.loadtxt('p26_n10.txt')                                                                                                                                          \n",
    "v11=v1[:,1];v21=v1[:,2];v31=v1[:,3];                                                                                                                                         \n",
    "eigval11=v1[0,0];eigval21=v1[1,0];eigval31=v1[2,0];\n",
    "v111=np.zeros(n1+1);v221=np.zeros(n1+1);v331=np.zeros(n1+1);\n",
    "v111[0]=0;v111[n]=0;v221[0]=0;v221[n]=0;v331[0]=0;v331[n]=0;\n",
    "for i in range(1,n):\n",
    "    v111[i]=v11[i-1]\n",
    "    v221[i]=v21[i-1]\n",
    "    v331[i]=v31[i-1]\n",
    "t1=np.loadtxt('analyticaln10.txt') \n",
    "t11=t1[:,1];t21=t1[:,2];t31=t1[:,3];                                                                                                                                         \n",
    "t111[0]=0;t111[n]=0;t221[0]=0;t221[n]=0;t331[0]=0;t331[n]=0;\n",
    "for i in range(1,n):\n",
    "    t111[i]=t11[i-1]\n",
    "    t221[i]=t21[i-1]\n",
    "    t331[i]=t31[i-1]\n",
    "plt.plot(x1,v111,label=eigval11); plt.plot(x1,v221, label=eigval21); plt.plot(x1,v331, label=eigval31);\n",
    "plt.plot(x1,t111,label='analytical 1'); plt.plot(x1,t221, label='analytical 2'; plt.plot(x1,t331, label='analytical 3');\n",
    "plt.xlabel('x');plt.ylabel('v');plt.title('n=10');\n",
    "plt.grid(); plt.legend();\n",
    "plt.savefig('figura_p2e6n10.pdf'); \n",
    "n2=100                                                                                                                                                                   \n",
    "h2=1/n2                                                                                                                                                                   \n",
    "x2=[]                                                                                                                                                                   \n",
    "for i in range(0,n2+1):                                                                                                                                                  \n",
    "    x2.append(h2*i)\n",
    "v2=np.loadtxt('p26_n100.txt')                                                                                                                                          \n",
    "v12=v2[:,1];v22=v2[:,2];v32=v2[:,3];                                                                                                                                         \n",
    "eigval12=v2[0,0];eigval22=v2[1,0];eigval32=v2[2,0]; \n",
    "v112=np.zeros(n1+1);v222=np.zeros(n1+1);v332=np.zeros(n1+1);\n",
    "v112[0]=0;v112[n]=0;v222[0]=0;v222[n]=0;v333[0]=0;v333[n]=0;\n",
    "for i in range(1,n):\n",
    "    v112[i]=v12[i-1]\n",
    "    v222[i]=v22[i-1]\n",
    "    v332[i]=v32[i-1]\n",
    "t2=np.loadtxt('analyticaln10.txt') \n",
    "t12=t2[:,1];t22=t2[:,2];t32=t2[:,3];                                                                                                                                         \n",
    "t112[0]=0;t112[n]=0;t222[0]=0;t222[n]=0;t332[0]=0;t332[n]=0;\n",
    "for i in range(1,n):\n",
    "    t112[i]=t12[i-1]\n",
    "    t222[i]=t22[i-1]\n",
    "    t332[i]=t32[i-1]                                               \n",
    "plt.plot(x2,v112,label=eigval12); plt.plot(x2,v222, label=eigval22); plt.plot(x2,v332, label=eigval32);\n",
    "plt.plot(x2,t112,label='analytical 1'); plt.plot(x2,t222, label='analytical 2'; plt.plot(x2,t332, label='analytical 3');                                            \n",
    "plt.xlabel('x');plt.ylabel('v');plt.title('n=100');   \n",
    "plt.grid(); plt.legend();\n",
    "plt.savefig('figura_p2e6n100.pdf'); "
   ]
  }
 ],
 "metadata": {
  "kernelspec": {
   "display_name": "Python 3 (ipykernel)",
   "language": "python",
   "name": "python3"
  },
  "language_info": {
   "codemirror_mode": {
    "name": "ipython",
    "version": 3
   },
   "file_extension": ".py",
   "mimetype": "text/x-python",
   "name": "python",
   "nbconvert_exporter": "python",
   "pygments_lexer": "ipython3",
   "version": "3.9.12"
  }
 },
 "nbformat": 4,
 "nbformat_minor": 5
}
